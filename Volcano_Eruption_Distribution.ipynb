{
 "cells": [
  {
   "cell_type": "markdown",
   "metadata": {},
   "source": [
    "### Importing the required libraries"
   ]
  },
  {
   "cell_type": "markdown",
   "metadata": {},
   "source": [
    "And import the csv file"
   ]
  },
  {
   "cell_type": "code",
   "execution_count": 1,
   "metadata": {},
   "outputs": [
    {
     "data": {
      "text/html": [
       "<div>\n",
       "<style scoped>\n",
       "    .dataframe tbody tr th:only-of-type {\n",
       "        vertical-align: middle;\n",
       "    }\n",
       "\n",
       "    .dataframe tbody tr th {\n",
       "        vertical-align: top;\n",
       "    }\n",
       "\n",
       "    .dataframe thead th {\n",
       "        text-align: right;\n",
       "    }\n",
       "</style>\n",
       "<table border=\"1\" class=\"dataframe\">\n",
       "  <thead>\n",
       "    <tr style=\"text-align: right;\">\n",
       "      <th></th>\n",
       "      <th>Year</th>\n",
       "      <th>Month</th>\n",
       "      <th>Day</th>\n",
       "      <th>TSU</th>\n",
       "      <th>EQ</th>\n",
       "      <th>Name</th>\n",
       "      <th>Location</th>\n",
       "      <th>Country</th>\n",
       "      <th>Latitude</th>\n",
       "      <th>Longitude</th>\n",
       "      <th>...</th>\n",
       "      <th>TOTAL_DEATHS</th>\n",
       "      <th>TOTAL_DEATHS_DESCRIPTION</th>\n",
       "      <th>TOTAL_MISSING</th>\n",
       "      <th>TOTAL_MISSING_DESCRIPTION</th>\n",
       "      <th>TOTAL_INJURIES</th>\n",
       "      <th>TOTAL_INJURIES_DESCRIPTION</th>\n",
       "      <th>TOTAL_DAMAGE_MILLIONS_DOLLARS</th>\n",
       "      <th>TOTAL_DAMAGE_DESCRIPTION</th>\n",
       "      <th>TOTAL_HOUSES_DESTROYED</th>\n",
       "      <th>TOTAL_HOUSES_DESTROYED_DESCRIPTION</th>\n",
       "    </tr>\n",
       "  </thead>\n",
       "  <tbody>\n",
       "    <tr>\n",
       "      <th>0</th>\n",
       "      <td>2010</td>\n",
       "      <td>1</td>\n",
       "      <td>NaN</td>\n",
       "      <td>NaN</td>\n",
       "      <td>NaN</td>\n",
       "      <td>Tungurahua</td>\n",
       "      <td>Ecuador</td>\n",
       "      <td>Ecuador</td>\n",
       "      <td>-1.467</td>\n",
       "      <td>-78.442</td>\n",
       "      <td>...</td>\n",
       "      <td>NaN</td>\n",
       "      <td>NaN</td>\n",
       "      <td>NaN</td>\n",
       "      <td>NaN</td>\n",
       "      <td>NaN</td>\n",
       "      <td>NaN</td>\n",
       "      <td>NaN</td>\n",
       "      <td>1.0</td>\n",
       "      <td>NaN</td>\n",
       "      <td>NaN</td>\n",
       "    </tr>\n",
       "    <tr>\n",
       "      <th>1</th>\n",
       "      <td>2010</td>\n",
       "      <td>3</td>\n",
       "      <td>31.0</td>\n",
       "      <td>NaN</td>\n",
       "      <td>NaN</td>\n",
       "      <td>Eyjafjallajokull</td>\n",
       "      <td>Iceland-S</td>\n",
       "      <td>Iceland</td>\n",
       "      <td>63.630</td>\n",
       "      <td>-19.620</td>\n",
       "      <td>...</td>\n",
       "      <td>2.0</td>\n",
       "      <td>1.0</td>\n",
       "      <td>NaN</td>\n",
       "      <td>NaN</td>\n",
       "      <td>NaN</td>\n",
       "      <td>NaN</td>\n",
       "      <td>NaN</td>\n",
       "      <td>NaN</td>\n",
       "      <td>NaN</td>\n",
       "      <td>NaN</td>\n",
       "    </tr>\n",
       "    <tr>\n",
       "      <th>2</th>\n",
       "      <td>2010</td>\n",
       "      <td>5</td>\n",
       "      <td>27.0</td>\n",
       "      <td>NaN</td>\n",
       "      <td>NaN</td>\n",
       "      <td>Pacaya</td>\n",
       "      <td>Guatemala</td>\n",
       "      <td>Guatemala</td>\n",
       "      <td>14.381</td>\n",
       "      <td>-90.601</td>\n",
       "      <td>...</td>\n",
       "      <td>1.0</td>\n",
       "      <td>1.0</td>\n",
       "      <td>3.0</td>\n",
       "      <td>1.0</td>\n",
       "      <td>NaN</td>\n",
       "      <td>NaN</td>\n",
       "      <td>NaN</td>\n",
       "      <td>1.0</td>\n",
       "      <td>3.0</td>\n",
       "      <td>1.0</td>\n",
       "    </tr>\n",
       "    <tr>\n",
       "      <th>3</th>\n",
       "      <td>2010</td>\n",
       "      <td>5</td>\n",
       "      <td>29.0</td>\n",
       "      <td>TSU</td>\n",
       "      <td>EQ</td>\n",
       "      <td>Sarigan</td>\n",
       "      <td>Mariana Is-C Pacific</td>\n",
       "      <td>United States</td>\n",
       "      <td>16.708</td>\n",
       "      <td>145.780</td>\n",
       "      <td>...</td>\n",
       "      <td>NaN</td>\n",
       "      <td>NaN</td>\n",
       "      <td>NaN</td>\n",
       "      <td>NaN</td>\n",
       "      <td>NaN</td>\n",
       "      <td>NaN</td>\n",
       "      <td>NaN</td>\n",
       "      <td>NaN</td>\n",
       "      <td>NaN</td>\n",
       "      <td>NaN</td>\n",
       "    </tr>\n",
       "    <tr>\n",
       "      <th>4</th>\n",
       "      <td>2010</td>\n",
       "      <td>8</td>\n",
       "      <td>6.0</td>\n",
       "      <td>NaN</td>\n",
       "      <td>NaN</td>\n",
       "      <td>Karangetang [Api Siau]</td>\n",
       "      <td>Sangihe Is-Indonesia</td>\n",
       "      <td>Indonesia</td>\n",
       "      <td>2.780</td>\n",
       "      <td>125.480</td>\n",
       "      <td>...</td>\n",
       "      <td>4.0</td>\n",
       "      <td>1.0</td>\n",
       "      <td>NaN</td>\n",
       "      <td>NaN</td>\n",
       "      <td>5.0</td>\n",
       "      <td>1.0</td>\n",
       "      <td>NaN</td>\n",
       "      <td>NaN</td>\n",
       "      <td>NaN</td>\n",
       "      <td>1.0</td>\n",
       "    </tr>\n",
       "  </tbody>\n",
       "</table>\n",
       "<p>5 rows × 36 columns</p>\n",
       "</div>"
      ],
      "text/plain": [
       "   Year  Month   Day  TSU   EQ                    Name              Location  \\\n",
       "0  2010      1   NaN  NaN  NaN              Tungurahua               Ecuador   \n",
       "1  2010      3  31.0  NaN  NaN        Eyjafjallajokull             Iceland-S   \n",
       "2  2010      5  27.0  NaN  NaN                  Pacaya             Guatemala   \n",
       "3  2010      5  29.0  TSU   EQ                 Sarigan  Mariana Is-C Pacific   \n",
       "4  2010      8   6.0  NaN  NaN  Karangetang [Api Siau]  Sangihe Is-Indonesia   \n",
       "\n",
       "         Country  Latitude  Longitude  ...  TOTAL_DEATHS  \\\n",
       "0        Ecuador    -1.467    -78.442  ...           NaN   \n",
       "1        Iceland    63.630    -19.620  ...           2.0   \n",
       "2      Guatemala    14.381    -90.601  ...           1.0   \n",
       "3  United States    16.708    145.780  ...           NaN   \n",
       "4      Indonesia     2.780    125.480  ...           4.0   \n",
       "\n",
       "  TOTAL_DEATHS_DESCRIPTION TOTAL_MISSING TOTAL_MISSING_DESCRIPTION  \\\n",
       "0                      NaN           NaN                       NaN   \n",
       "1                      1.0           NaN                       NaN   \n",
       "2                      1.0           3.0                       1.0   \n",
       "3                      NaN           NaN                       NaN   \n",
       "4                      1.0           NaN                       NaN   \n",
       "\n",
       "   TOTAL_INJURIES TOTAL_INJURIES_DESCRIPTION  TOTAL_DAMAGE_MILLIONS_DOLLARS  \\\n",
       "0             NaN                        NaN                            NaN   \n",
       "1             NaN                        NaN                            NaN   \n",
       "2             NaN                        NaN                            NaN   \n",
       "3             NaN                        NaN                            NaN   \n",
       "4             5.0                        1.0                            NaN   \n",
       "\n",
       "   TOTAL_DAMAGE_DESCRIPTION  TOTAL_HOUSES_DESTROYED  \\\n",
       "0                       1.0                     NaN   \n",
       "1                       NaN                     NaN   \n",
       "2                       1.0                     3.0   \n",
       "3                       NaN                     NaN   \n",
       "4                       NaN                     NaN   \n",
       "\n",
       "   TOTAL_HOUSES_DESTROYED_DESCRIPTION  \n",
       "0                                 NaN  \n",
       "1                                 NaN  \n",
       "2                                 1.0  \n",
       "3                                 NaN  \n",
       "4                                 1.0  \n",
       "\n",
       "[5 rows x 36 columns]"
      ]
     },
     "execution_count": 1,
     "metadata": {},
     "output_type": "execute_result"
    }
   ],
   "source": [
    "import folium\n",
    "import pandas as pd\n",
    "data = pd.read_csv('volcano_data.csv')\n",
    "data.head()"
   ]
  },
  {
   "cell_type": "code",
   "execution_count": 2,
   "metadata": {},
   "outputs": [
    {
     "data": {
      "text/plain": [
       "Index(['Year', 'Month', 'Day', 'TSU', 'EQ', 'Name', 'Location', 'Country',\n",
       "       'Latitude', 'Longitude', 'Elevation', 'Type', 'Status', 'Time', 'VEI',\n",
       "       'Agent', 'DEATHS', 'DEATHS_DESCRIPTION', 'MISSING',\n",
       "       'MISSING_DESCRIPTION', 'INJURIES', 'INJURIES_DESCRIPTION',\n",
       "       'DAMAGE_MILLIONS_DOLLARS', 'DAMAGE_DESCRIPTION', 'HOUSES_DESTROYED',\n",
       "       'HOUSES_DESTROYED_DESCRIPTION', 'TOTAL_DEATHS',\n",
       "       'TOTAL_DEATHS_DESCRIPTION', 'TOTAL_MISSING',\n",
       "       'TOTAL_MISSING_DESCRIPTION', 'TOTAL_INJURIES',\n",
       "       'TOTAL_INJURIES_DESCRIPTION', 'TOTAL_DAMAGE_MILLIONS_DOLLARS',\n",
       "       'TOTAL_DAMAGE_DESCRIPTION', 'TOTAL_HOUSES_DESTROYED',\n",
       "       'TOTAL_HOUSES_DESTROYED_DESCRIPTION'],\n",
       "      dtype='object')"
      ]
     },
     "execution_count": 2,
     "metadata": {},
     "output_type": "execute_result"
    }
   ],
   "source": [
    "data.columns"
   ]
  },
  {
   "cell_type": "markdown",
   "metadata": {},
   "source": [
    "Subset the data to get only the rows and columns we want"
   ]
  },
  {
   "cell_type": "code",
   "execution_count": 3,
   "metadata": {},
   "outputs": [
    {
     "data": {
      "text/html": [
       "<div>\n",
       "<style scoped>\n",
       "    .dataframe tbody tr th:only-of-type {\n",
       "        vertical-align: middle;\n",
       "    }\n",
       "\n",
       "    .dataframe tbody tr th {\n",
       "        vertical-align: top;\n",
       "    }\n",
       "\n",
       "    .dataframe thead th {\n",
       "        text-align: right;\n",
       "    }\n",
       "</style>\n",
       "<table border=\"1\" class=\"dataframe\">\n",
       "  <thead>\n",
       "    <tr style=\"text-align: right;\">\n",
       "      <th></th>\n",
       "      <th>Year</th>\n",
       "      <th>Name</th>\n",
       "      <th>Country</th>\n",
       "      <th>Latitude</th>\n",
       "      <th>Longitude</th>\n",
       "      <th>Type</th>\n",
       "      <th>Elevation</th>\n",
       "      <th>TOTAL_DEATHS</th>\n",
       "    </tr>\n",
       "  </thead>\n",
       "  <tbody>\n",
       "    <tr>\n",
       "      <th>0</th>\n",
       "      <td>2010</td>\n",
       "      <td>Tungurahua</td>\n",
       "      <td>Ecuador</td>\n",
       "      <td>-1.467</td>\n",
       "      <td>-78.442</td>\n",
       "      <td>Stratovolcano</td>\n",
       "      <td>5023</td>\n",
       "      <td>NaN</td>\n",
       "    </tr>\n",
       "    <tr>\n",
       "      <th>1</th>\n",
       "      <td>2010</td>\n",
       "      <td>Eyjafjallajokull</td>\n",
       "      <td>Iceland</td>\n",
       "      <td>63.630</td>\n",
       "      <td>-19.620</td>\n",
       "      <td>Stratovolcano</td>\n",
       "      <td>1666</td>\n",
       "      <td>2.0</td>\n",
       "    </tr>\n",
       "    <tr>\n",
       "      <th>2</th>\n",
       "      <td>2010</td>\n",
       "      <td>Pacaya</td>\n",
       "      <td>Guatemala</td>\n",
       "      <td>14.381</td>\n",
       "      <td>-90.601</td>\n",
       "      <td>Complex volcano</td>\n",
       "      <td>2552</td>\n",
       "      <td>1.0</td>\n",
       "    </tr>\n",
       "    <tr>\n",
       "      <th>3</th>\n",
       "      <td>2010</td>\n",
       "      <td>Sarigan</td>\n",
       "      <td>United States</td>\n",
       "      <td>16.708</td>\n",
       "      <td>145.780</td>\n",
       "      <td>Stratovolcano</td>\n",
       "      <td>538</td>\n",
       "      <td>NaN</td>\n",
       "    </tr>\n",
       "    <tr>\n",
       "      <th>4</th>\n",
       "      <td>2010</td>\n",
       "      <td>Karangetang [Api Siau]</td>\n",
       "      <td>Indonesia</td>\n",
       "      <td>2.780</td>\n",
       "      <td>125.480</td>\n",
       "      <td>Stratovolcano</td>\n",
       "      <td>1784</td>\n",
       "      <td>4.0</td>\n",
       "    </tr>\n",
       "  </tbody>\n",
       "</table>\n",
       "</div>"
      ],
      "text/plain": [
       "   Year                    Name        Country  Latitude  Longitude  \\\n",
       "0  2010              Tungurahua        Ecuador    -1.467    -78.442   \n",
       "1  2010        Eyjafjallajokull        Iceland    63.630    -19.620   \n",
       "2  2010                  Pacaya      Guatemala    14.381    -90.601   \n",
       "3  2010                 Sarigan  United States    16.708    145.780   \n",
       "4  2010  Karangetang [Api Siau]      Indonesia     2.780    125.480   \n",
       "\n",
       "              Type  Elevation  TOTAL_DEATHS  \n",
       "0    Stratovolcano       5023           NaN  \n",
       "1    Stratovolcano       1666           2.0  \n",
       "2  Complex volcano       2552           1.0  \n",
       "3    Stratovolcano        538           NaN  \n",
       "4    Stratovolcano       1784           4.0  "
      ]
     },
     "execution_count": 3,
     "metadata": {},
     "output_type": "execute_result"
    }
   ],
   "source": [
    "data_new = data.loc[:,(\"Year\",\"Name\",\"Country\",\"Latitude\",\"Longitude\",\"Type\",\"Elevation\",\"TOTAL_DEATHS\")]\n",
    "data_new.head()"
   ]
  },
  {
   "cell_type": "code",
   "execution_count": 4,
   "metadata": {},
   "outputs": [
    {
     "data": {
      "text/plain": [
       "Year             0\n",
       "Name             0\n",
       "Country          0\n",
       "Latitude         0\n",
       "Longitude        0\n",
       "Type             0\n",
       "Elevation        0\n",
       "TOTAL_DEATHS    34\n",
       "dtype: int64"
      ]
     },
     "execution_count": 4,
     "metadata": {},
     "output_type": "execute_result"
    }
   ],
   "source": [
    "##Always check if any null oresent or not\n",
    "data_new.isnull().sum()"
   ]
  },
  {
   "cell_type": "code",
   "execution_count": 5,
   "metadata": {},
   "outputs": [
    {
     "data": {
      "text/plain": [
       "Year            0\n",
       "Name            0\n",
       "Country         0\n",
       "Latitude        0\n",
       "Longitude       0\n",
       "Type            0\n",
       "Elevation       0\n",
       "TOTAL_DEATHS    0\n",
       "dtype: int64"
      ]
     },
     "execution_count": 5,
     "metadata": {},
     "output_type": "execute_result"
    }
   ],
   "source": [
    "data_new = data_new.fillna(0)\n",
    "data_new.isnull().sum()"
   ]
  },
  {
   "cell_type": "markdown",
   "metadata": {},
   "source": [
    "## Formating the map"
   ]
  },
  {
   "cell_type": "code",
   "execution_count": 6,
   "metadata": {},
   "outputs": [],
   "source": [
    "map = folium.Map(location = [40.52,34.34], zoom_start = 2,tiles = \"Stamen Terrain\",)\n",
    "##add marker\n",
    "fg = folium.FeatureGroup(name = \"My Map\")"
   ]
  },
  {
   "cell_type": "code",
   "execution_count": 7,
   "metadata": {},
   "outputs": [
    {
     "data": {
      "text/plain": [
       "Index(['Year', 'Name', 'Country', 'Latitude', 'Longitude', 'Type', 'Elevation',\n",
       "       'TOTAL_DEATHS'],\n",
       "      dtype='object')"
      ]
     },
     "execution_count": 7,
     "metadata": {},
     "output_type": "execute_result"
    }
   ],
   "source": [
    "data_new.columns\n"
   ]
  },
  {
   "cell_type": "code",
   "execution_count": 8,
   "metadata": {},
   "outputs": [],
   "source": [
    "#subset desired properties to display in popup\n",
    "year_Eruppted = list(data_new[\"Year\"])\n",
    "name_Volcano = list(data_new[\"Name\"])\n",
    "country_Volcano = list(data_new[\"Country\"])\n",
    "latitude_Volcano = list(data_new[\"Latitude\"])\n",
    "longitude_Volcano = list(data_new[\"Longitude\"])\n",
    "type_Volcano = list(data_new[\"Type\"])\n",
    "elevation_Volcano = list(data_new[\"Elevation\"])\n",
    "death = list(data_new[\"TOTAL_DEATHS\"])\n"
   ]
  },
  {
   "cell_type": "code",
   "execution_count": 9,
   "metadata": {},
   "outputs": [],
   "source": [
    "html = \"\"\"\n",
    "Volcano name:\n",
    "<a href=\"https://www.google.com/search?q=%%22%s%%22\" target=\"_blank\">%s</a><br>\n",
    "Last Eruption Year: %s <br>\n",
    "Elevation: %s m <br>\n",
    "Country: %s <br>\n",
    "Cordinates: [ %s , %s]<br>\n",
    "Type: %s\n",
    "Total Deaths = %s\n",
    "\n",
    "\"\"\"\n",
    "for typev,lt,ln,el,namev,year,country,death in zip(type_Volcano,latitude_Volcano,longitude_Volcano,elevation_Volcano,name_Volcano,year_Eruppted,country_Volcano,death):\n",
    "    if el<1000:\n",
    "        type_color = \"green\"\n",
    "    elif 1000<=el<3000:\n",
    "        type_color = \"orange\"\n",
    "    else:\n",
    "        type_color = \"red\"\n",
    "    iframe = folium.IFrame(html=html % (namev,namev,year,el,country,lt,ln,typev,death), width=200, height=120)\n",
    "    fg.add_child(folium.Marker(location = [lt, ln],\n",
    "    #popup =folium.Popup(iframe,\"Year:\"+str(year)+'<br>'+\"Elevation: \" + str(el) +\"m\"+ '<br>'+\"Name: \" + str(namev)+'<br>'+'Country:'+str(country)+'<br>'+\"Coordinates:{\"+str(lt)+\",\"+str(ln)+\"]\"+'<br>'+\"Type:\" + str(typev)),icon = folium.Icon(color = type_color),tooltip =folium.Tooltip(\"Volcano \"+namev,style=None, sticky=True)))\n",
    "    popup =folium.Popup(iframe),icon = folium.Icon(color = type_color),tooltip =folium.Tooltip(\"Volcano \"+namev,style=None, sticky=True)))\n"
   ]
  },
  {
   "cell_type": "code",
   "execution_count": 10,
   "metadata": {},
   "outputs": [],
   "source": [
    "fgv = folium.FeatureGroup(name = \"Population\")\n",
    "data_json = open(\"world.json\", 'r', encoding='utf-8-sig').read()\n",
    "\n",
    "fgv.add_child(folium.GeoJson(data=data_json ,\n",
    "style_function=lambda x: {'fillColor':'green' if x['properties']['POP2005'] <= 10000000\n",
    "else 'orange' if 10000000 < x['properties']['POP2005'] < 20000000 else 'red'}))\n",
    "loc = 'Volcano map with population layer'\n",
    "title_html = '''\n",
    "             <h3 align=\"center\" style=\"font-size:16px\"><b>{}</b></h3>\n",
    "             '''.format(loc)\n",
    "map.get_root().html.add_child(folium.Element(title_html))\n",
    "map.add_child(fg)\n",
    "map.add_child(fgv)\n",
    "map.add_child(folium.LayerControl())\n",
    "map.save(\"Volcano_new.html\")"
   ]
  }
 ],
 "metadata": {
  "interpreter": {
   "hash": "e2a7c3d20469dda411fd3211f02092a920078d1ca97c72d3dc7928b841d3a44a"
  },
  "kernelspec": {
   "display_name": "Python 3.9.6 64-bit",
   "language": "python",
   "name": "python3"
  },
  "language_info": {
   "codemirror_mode": {
    "name": "ipython",
    "version": 3
   },
   "file_extension": ".py",
   "mimetype": "text/x-python",
   "name": "python",
   "nbconvert_exporter": "python",
   "pygments_lexer": "ipython3",
   "version": "3.9.6"
  },
  "orig_nbformat": 4
 },
 "nbformat": 4,
 "nbformat_minor": 2
}
